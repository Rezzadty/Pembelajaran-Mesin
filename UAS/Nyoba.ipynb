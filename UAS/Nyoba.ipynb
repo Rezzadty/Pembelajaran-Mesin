{
 "cells": [
  {
   "cell_type": "code",
   "execution_count": 1,
   "metadata": {},
   "outputs": [],
   "source": [
    "import pandas as pd\n",
    "import nltk\n",
    "from nltk.sentiment.vader import SentimentIntensityAnalyzer"
   ]
  },
  {
   "cell_type": "code",
   "execution_count": 2,
   "metadata": {},
   "outputs": [],
   "source": [
    "# Load the CSV file\n",
    "df = pd.read_csv('product_review_tokopedia.csv')\n",
    "\n",
    "# Initialize the sentiment analyzer\n",
    "sia = SentimentIntensityAnalyzer()\n",
    "\n",
    "# Create a new column to store the sentiment scores\n",
    "df['sentiment'] = df['rating'].apply(lambda x: sia.polarity_scores(str(x))['compound'])\n",
    "\n",
    "# Define a function to classify the sentiment as positive, negative, or neutral\n",
    "def classify_sentiment(rating):\n",
    "    if rating > 2:\n",
    "        return 'Negatif'\n",
    "    elif rating < 4:\n",
    "        return 'Positive'\n",
    "\n",
    "# Apply the classification function to the sentiment scores\n",
    "df['sentiment_class'] = df['sentiment'].apply(classify_sentiment)"
   ]
  },
  {
   "cell_type": "code",
   "execution_count": 3,
   "metadata": {},
   "outputs": [
    {
     "name": "stdout",
     "output_type": "stream",
     "text": [
      "   Unnamed: 0                                               text  rating  \\\n",
      "0         1.0             Barang sesuai pesanan dan cepat sampai     5.0   \n",
      "1         2.0                           Barang bagus harga murah     5.0   \n",
      "2         3.0    Paket rapi...mantap....cepat....sampe ke tujuan     5.0   \n",
      "3         4.0                         ya saya puas dgn barangnya     5.0   \n",
      "4         5.0                       Responya luar biasa b mantap     5.0   \n",
      "5         6.0            seller top, pengiriman cepat barang oke     5.0   \n",
      "6         7.0                        pengiriman cepat seller top     5.0   \n",
      "7         8.0  Produk sesuai dengan spec di web dan respon se...     5.0   \n",
      "8        10.0  Respon super cepat, pengiriman cepat, Barang b...     5.0   \n",
      "9        11.0                     Barang mantap, pelayanan cepat     5.0   \n",
      "\n",
      "      category                                       product_name  \\\n",
      "0  pertukangan  Staples Dekorasi Staples Kayu + Refill 8mm - S...   \n",
      "1  pertukangan  STAPLE GUN ATS 3 WAY TACKER - STAPLES JOK TEMB...   \n",
      "2  pertukangan  STAPLE GUN ATS 3 WAY TACKER - STAPLES JOK TEMB...   \n",
      "3  pertukangan  ALAT STAPLES TEMBAK &#40;AIR NAILER GUN&#41; O...   \n",
      "4  pertukangan  Isi Refill Staples Jok Kulit Motor / Staple Gu...   \n",
      "5  pertukangan  Isi Refill Staples Jok Kulit Motor / Staple Gu...   \n",
      "6  pertukangan  Isi Refill Staples Jok Kulit Motor / Staple Gu...   \n",
      "7  pertukangan  Isi Refill Staples Jok Kulit Motor / Staple Gu...   \n",
      "8  pertukangan  refill staples gun tacker manual isi paku temb...   \n",
      "9  pertukangan  refill staples gun tacker manual isi paku temb...   \n",
      "\n",
      "    product_id sold    shop_id  \\\n",
      "0  418660637.0    1  1740837.0   \n",
      "1  416032545.0   11  1477109.0   \n",
      "2  416032545.0   11  1477109.0   \n",
      "3  102279869.0    5   771395.0   \n",
      "4  190679689.0  787   969999.0   \n",
      "5  190679689.0  787   969999.0   \n",
      "6  190679689.0  787   969999.0   \n",
      "7  190679689.0  787   969999.0   \n",
      "8  316217334.0   82   231740.0   \n",
      "9  316217334.0   82   231740.0   \n",
      "\n",
      "                                         product_url  sentiment  \\\n",
      "0  https://www.tokopedia.com/shakaonline87/staple...        0.0   \n",
      "1  https://www.tokopedia.com/juraganperkakas/stap...        0.0   \n",
      "2  https://www.tokopedia.com/juraganperkakas/stap...        0.0   \n",
      "3  https://www.tokopedia.com/kamarmesin/alat-stap...        0.0   \n",
      "4  https://www.tokopedia.com/mitrapersada/isi-ref...        0.0   \n",
      "5  https://www.tokopedia.com/mitrapersada/isi-ref...        0.0   \n",
      "6  https://www.tokopedia.com/mitrapersada/isi-ref...        0.0   \n",
      "7  https://www.tokopedia.com/mitrapersada/isi-ref...        0.0   \n",
      "8  https://www.tokopedia.com/rumahbajukita/refill...        0.0   \n",
      "9  https://www.tokopedia.com/rumahbajukita/refill...        0.0   \n",
      "\n",
      "  sentiment_class  \n",
      "0        Positive  \n",
      "1        Positive  \n",
      "2        Positive  \n",
      "3        Positive  \n",
      "4        Positive  \n",
      "5        Positive  \n",
      "6        Positive  \n",
      "7        Positive  \n",
      "8        Positive  \n",
      "9        Positive  \n"
     ]
    }
   ],
   "source": [
    "# Print the results\n",
    "print(df.head(10))"
   ]
  }
 ],
 "metadata": {
  "kernelspec": {
   "display_name": "Python 3",
   "language": "python",
   "name": "python3"
  },
  "language_info": {
   "codemirror_mode": {
    "name": "ipython",
    "version": 3
   },
   "file_extension": ".py",
   "mimetype": "text/x-python",
   "name": "python",
   "nbconvert_exporter": "python",
   "pygments_lexer": "ipython3",
   "version": "3.12.3"
  }
 },
 "nbformat": 4,
 "nbformat_minor": 2
}
