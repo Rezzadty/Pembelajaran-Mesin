{
 "cells": [
  {
   "cell_type": "code",
   "execution_count": 1,
   "metadata": {},
   "outputs": [],
   "source": [
    "import os  # Mengimpor modul os untuk mengakses fungsi-fungsi sistem operasi"
   ]
  },
  {
   "cell_type": "code",
   "execution_count": 2,
   "metadata": {},
   "outputs": [],
   "source": [
    "# Path ke file CSV yang akan diperiksa keberadaannya\n",
    "file_path = 'clean_dataset_stem.csv'"
   ]
  },
  {
   "cell_type": "code",
   "execution_count": 3,
   "metadata": {},
   "outputs": [
    {
     "name": "stdout",
     "output_type": "stream",
     "text": [
      "File permissions: 0o100444\n"
     ]
    }
   ],
   "source": [
    "# Mengecek apakah file CSV ada di lokasi yang ditentukan\n",
    "if os.path.isfile(file_path):  # Memeriksa apakah file_path adalah file yang ada\n",
    "    st = os.stat(file_path)    # Mendapatkan informasi status file menggunakan os.stat\n",
    "    mode = st.st_mode          # Mendapatkan mode (hak akses) file dari informasi status\n",
    "    print('File permissions:', oct(mode))  # Menampilkan hak akses file dalam format oktal\n",
    "else:\n",
    "    print('File not found.')   # Menampilkan pesan jika file tidak ditemukan"
   ]
  }
 ],
 "metadata": {
  "kernelspec": {
   "display_name": "Python 3",
   "language": "python",
   "name": "python3"
  },
  "language_info": {
   "codemirror_mode": {
    "name": "ipython",
    "version": 3
   },
   "file_extension": ".py",
   "mimetype": "text/x-python",
   "name": "python",
   "nbconvert_exporter": "python",
   "pygments_lexer": "ipython3",
   "version": "3.12.3"
  }
 },
 "nbformat": 4,
 "nbformat_minor": 2
}
