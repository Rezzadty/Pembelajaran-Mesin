{
 "cells": [
  {
   "cell_type": "code",
   "execution_count": 1,
   "metadata": {},
   "outputs": [],
   "source": [
    "import pandas as pd\n",
    "import nltk\n",
    "from nltk.tokenize import word_tokenize\n",
    "from Sastrawi.Stemmer.StemmerFactory import StemmerFactory\n",
    "import string"
   ]
  },
  {
   "cell_type": "code",
   "execution_count": 2,
   "metadata": {},
   "outputs": [
    {
     "name": "stderr",
     "output_type": "stream",
     "text": [
      "[nltk_data] Downloading package punkt to\n",
      "[nltk_data]     C:\\Users\\USER\\AppData\\Roaming\\nltk_data...\n",
      "[nltk_data]   Package punkt is already up-to-date!\n"
     ]
    },
    {
     "data": {
      "text/plain": [
       "True"
      ]
     },
     "execution_count": 2,
     "metadata": {},
     "output_type": "execute_result"
    }
   ],
   "source": [
    "# Mengunduh resource jika belum ada\n",
    "nltk.download('punkt')"
   ]
  },
  {
   "cell_type": "code",
   "execution_count": 3,
   "metadata": {},
   "outputs": [],
   "source": [
    "# Fungsi untuk memuat stopwords dari file\n",
    "def load_stopwords(file_path):\n",
    "    with open(file_path, 'r', encoding='utf-8') as file:\n",
    "        stopwords = set(file.read().splitlines())\n",
    "    return stopwords"
   ]
  },
  {
   "cell_type": "code",
   "execution_count": 4,
   "metadata": {},
   "outputs": [],
   "source": [
    "# Path ke file stopwords\n",
    "stop_words_path = 'D:/File/Kuliah Udinus/Semester 4/Pembelajaran Mesin/UAS/Preprocessing/stopwords-id.txt'  # Ganti dengan path file stopwords Anda\n",
    "stop_words = load_stopwords(stop_words_path)"
   ]
  },
  {
   "cell_type": "code",
   "execution_count": 5,
   "metadata": {},
   "outputs": [],
   "source": [
    "# Membuat stemmer Bahasa Indonesia\n",
    "factory = StemmerFactory()\n",
    "stemmer = factory.create_stemmer()"
   ]
  },
  {
   "cell_type": "code",
   "execution_count": 6,
   "metadata": {},
   "outputs": [],
   "source": [
    "# Fungsi untuk preprocessing teks\n",
    "def preprocess_text(text):\n",
    "    if isinstance(text, float):\n",
    "        return \"\"\n",
    "    \n",
    "    # Mengubah teks menjadi huruf kecil\n",
    "    text = text.lower()\n",
    "    \n",
    "    # Menghapus tanda baca\n",
    "    text = text.translate(str.maketrans('', '', string.punctuation))\n",
    "    \n",
    "    # Tokenisasi teks\n",
    "    tokens = word_tokenize(text)\n",
    "    \n",
    "    # Menghapus stopwords\n",
    "    tokens = [word for word in tokens if word not in stop_words]\n",
    "    \n",
    "    # Stemming\n",
    "    tokens = [stemmer.stem(word) for word in tokens]\n",
    "    \n",
    "    return ' '.join(tokens)"
   ]
  },
  {
   "cell_type": "code",
   "execution_count": 7,
   "metadata": {},
   "outputs": [],
   "source": [
    "# Path ke file CSV dan Memuat file CSV\n",
    "file_path = 'D:/File/Kuliah Udinus/Semester 4/Pembelajaran Mesin/UAS/labeled_product_review_tokopedia.csv'  # Ganti dengan path file CSV Anda\n",
    "df = pd.read_csv(file_path)"
   ]
  },
  {
   "cell_type": "code",
   "execution_count": 8,
   "metadata": {},
   "outputs": [
    {
     "name": "stdout",
     "output_type": "stream",
     "text": [
      "Preprocessing selesai. Dataset yang telah diproses disimpan di: D:/File/Kuliah Udinus/Semester 4/Pembelajaran Mesin/UAS/Preprocessing/SaveData.csv\n"
     ]
    }
   ],
   "source": [
    "# Asumsi kolom teks bernama 'text'\n",
    "df['processed_text'] = df['text'].apply(preprocess_text)\n",
    "\n",
    "#  Menyimpan dataset yang telah diproses ke file CSV baru\n",
    "output_path = 'D:/File/Kuliah Udinus/Semester 4/Pembelajaran Mesin/UAS/Preprocessing/SaveData.csv'  # Ganti dengan path dan nama file untuk menyimpan file CSV yang telah diproses\n",
    "df.to_csv(output_path, index=False)\n",
    "\n",
    "print(\"Preprocessing selesai. Dataset yang telah diproses disimpan di:\", output_path)"
   ]
  }
 ],
 "metadata": {
  "kernelspec": {
   "display_name": "Python 3",
   "language": "python",
   "name": "python3"
  },
  "language_info": {
   "codemirror_mode": {
    "name": "ipython",
    "version": 3
   },
   "file_extension": ".py",
   "mimetype": "text/x-python",
   "name": "python",
   "nbconvert_exporter": "python",
   "pygments_lexer": "ipython3",
   "version": "3.12.3"
  }
 },
 "nbformat": 4,
 "nbformat_minor": 2
}
